{
 "cells": [
  {
   "cell_type": "code",
   "execution_count": 89,
   "id": "c14ef7be",
   "metadata": {},
   "outputs": [],
   "source": [
    "import numpy as np"
   ]
  },
  {
   "cell_type": "markdown",
   "id": "8f6c4a66",
   "metadata": {},
   "source": [
    "## Part 1"
   ]
  },
  {
   "cell_type": "code",
   "execution_count": 90,
   "id": "13a0f157",
   "metadata": {},
   "outputs": [],
   "source": [
    "def is_valid_symbol(char):\n",
    "    not_symbol = ['1','2','3','4','5','6','7','8','9','0','.']\n",
    "    return char not in not_symbol\n",
    "\n",
    "def is_number(char):\n",
    "    return char.isdigit()"
   ]
  },
  {
   "cell_type": "code",
   "execution_count": 91,
   "id": "6e8cccea",
   "metadata": {},
   "outputs": [],
   "source": [
    "def is_valid_position(x, y, grid_width, grid_height):\n",
    "    return 0 <= x < grid_width and 0 <= y < grid_height"
   ]
  },
  {
   "cell_type": "code",
   "execution_count": 92,
   "id": "77c1cd65",
   "metadata": {},
   "outputs": [],
   "source": [
    "def complete_numbers_indices(grid):\n",
    "    nums_dict = {}\n",
    "    rows = len(grid)\n",
    "    cols = len(grid[0])\n",
    "    # right, left\n",
    "    directions = [2 , 1]\n",
    "    digits_to_skip = []\n",
    "    for x in range(cols):\n",
    "        for y in range(rows):\n",
    "            if is_number(grid[y][x]) and (x,y) not in digits_to_skip:\n",
    "                full_number = grid[y][x]\n",
    "                next_x = x + 1\n",
    "                while next_x < cols and is_number(grid[y][next_x]):\n",
    "                    full_number += grid[y][next_x]\n",
    "                    digits_to_skip.append((next_x,y))\n",
    "                    next_x += 1\n",
    "                    \n",
    "                nums_dict[(x,y)] = full_number\n",
    "\n",
    "    return nums_dict   "
   ]
  },
  {
   "cell_type": "code",
   "execution_count": 108,
   "id": "f5951e79",
   "metadata": {},
   "outputs": [],
   "source": [
    "def numbers_touching_symbols(grid, full_nums_dict):\n",
    "    rows = len(grid)\n",
    "    cols = len(grid[0])\n",
    "    directions = [(0, 1), (0, -1), (1, 0), (-1, 0), (1, 1), (1, -1), (-1, 1), (-1, -1)]\n",
    "    numbers_adjacent_to_symbols = []\n",
    "    \n",
    "    for (x, y), number in full_nums_dict.items():\n",
    "        number_length = len(number)\n",
    "        number_added = False  \n",
    "\n",
    "        for i in range(number_length):\n",
    "            current_x = x + i\n",
    "            if current_x >= cols: \n",
    "                break\n",
    "\n",
    "            for dx, dy in directions:\n",
    "                tx, ty = current_x + dx, y + dy\n",
    "                if is_valid_position(tx, ty, cols, rows) and is_valid_symbol(grid[ty][tx]):\n",
    "                    numbers_adjacent_to_symbols.append(int(number))\n",
    "                    number_added = True\n",
    "                    break  \n",
    "            \n",
    "            if number_added:\n",
    "                break  \n",
    "\n",
    "    return list(numbers_adjacent_to_symbols)"
   ]
  },
  {
   "cell_type": "code",
   "execution_count": 143,
   "id": "bde84929",
   "metadata": {},
   "outputs": [],
   "source": [
    "def solution_1(file):\n",
    "    with open(file, 'r') as f:\n",
    "        lines = f.read().split('\\n')\n",
    "    full_nums_dict = complete_numbers_indices(lines)\n",
    "    numbers = numbers_touching_symbols(lines, full_nums_dict)\n",
    "    \n",
    "    return sum(numbers)"
   ]
  },
  {
   "cell_type": "code",
   "execution_count": 144,
   "id": "700a1a78",
   "metadata": {},
   "outputs": [
    {
     "data": {
      "text/plain": [
       "4361"
      ]
     },
     "execution_count": 144,
     "metadata": {},
     "output_type": "execute_result"
    }
   ],
   "source": [
    "file = 'test.txt'\n",
    "solution_1(file)"
   ]
  },
  {
   "cell_type": "code",
   "execution_count": 112,
   "id": "e67209c6",
   "metadata": {},
   "outputs": [
    {
     "data": {
      "text/plain": [
       "514969"
      ]
     },
     "execution_count": 112,
     "metadata": {},
     "output_type": "execute_result"
    }
   ],
   "source": [
    "file = 'full.txt'\n",
    "\n",
    "solution_1(file)"
   ]
  },
  {
   "cell_type": "markdown",
   "id": "4e5bb752",
   "metadata": {},
   "source": [
    "***\n",
    "## Part 2"
   ]
  },
  {
   "cell_type": "code",
   "execution_count": 115,
   "id": "720b1b48",
   "metadata": {},
   "outputs": [],
   "source": [
    "def is_asterisk(char):\n",
    "    return char == '*'"
   ]
  },
  {
   "cell_type": "code",
   "execution_count": 124,
   "id": "4c13bd03",
   "metadata": {},
   "outputs": [],
   "source": [
    "def numbers_touching_asterisk(grid, full_nums_dict):\n",
    "    rows = len(grid)\n",
    "    cols = len(grid[0])\n",
    "    directions = [(0, 1), (0, -1), (1, 0), (-1, 0), (1, 1), (1, -1), (-1, 1), (-1, -1)]\n",
    "    numbers_adjacent_to_asterisk = {}\n",
    "    \n",
    "    for (x, y), number in full_nums_dict.items():\n",
    "        number_length = len(number)\n",
    "        number_added = False  \n",
    "\n",
    "        for i in range(number_length):\n",
    "            current_x = x + i\n",
    "            if current_x >= cols: \n",
    "                break\n",
    "\n",
    "            for dx, dy in directions:\n",
    "                tx, ty = current_x + dx, y + dy\n",
    "                if is_valid_position(tx, ty, cols, rows) and is_asterisk(grid[ty][tx]):\n",
    "                    if (tx, ty) not in numbers_adjacent_to_asterisk:\n",
    "                        numbers_adjacent_to_asterisk[(tx, ty)] = []\n",
    "                    numbers_adjacent_to_asterisk[(tx,ty)].append(int(number))\n",
    "                    number_added = True\n",
    "                    break  \n",
    "            \n",
    "            if number_added:\n",
    "                break  \n",
    "\n",
    "    return numbers_adjacent_to_asterisk               "
   ]
  },
  {
   "cell_type": "code",
   "execution_count": 135,
   "id": "01d9b2b4",
   "metadata": {},
   "outputs": [],
   "source": [
    "def gear_ratio(dictionary):\n",
    "    gear_ratios=[]\n",
    "    for gear in dictionary.values():\n",
    "        if len(gear)==2:\n",
    "            gear_ratios.append(gear[0]*gear[1])\n",
    "    return gear_ratios   \n",
    "            "
   ]
  },
  {
   "cell_type": "code",
   "execution_count": 138,
   "id": "0ba92daf",
   "metadata": {},
   "outputs": [],
   "source": [
    "def solution_2(file):\n",
    "    with open(file, 'r') as f:\n",
    "        lines = f.read().split('\\n')\n",
    "    full_nums_dict = complete_numbers_indices(lines)\n",
    "    numbers = numbers_touching_asterisk(lines, full_nums_dict)\n",
    "    gear_ratios = gear_ratio(numbers)\n",
    "    return sum(gear_ratios)\n"
   ]
  },
  {
   "cell_type": "code",
   "execution_count": 139,
   "id": "4ef278a8",
   "metadata": {},
   "outputs": [
    {
     "data": {
      "text/plain": [
       "467835"
      ]
     },
     "execution_count": 139,
     "metadata": {},
     "output_type": "execute_result"
    }
   ],
   "source": [
    "file = 'test.txt'\n",
    "solution_2(file)"
   ]
  },
  {
   "cell_type": "code",
   "execution_count": 140,
   "id": "1f0b4e1b",
   "metadata": {},
   "outputs": [
    {
     "data": {
      "text/plain": [
       "78915902"
      ]
     },
     "execution_count": 140,
     "metadata": {},
     "output_type": "execute_result"
    }
   ],
   "source": [
    "file = 'full.txt'\n",
    "solution_2(file)"
   ]
  },
  {
   "cell_type": "code",
   "execution_count": null,
   "id": "ce2ddc97",
   "metadata": {},
   "outputs": [],
   "source": []
  }
 ],
 "metadata": {
  "kernelspec": {
   "display_name": "Python 3 (ipykernel)",
   "language": "python",
   "name": "python3"
  },
  "language_info": {
   "codemirror_mode": {
    "name": "ipython",
    "version": 3
   },
   "file_extension": ".py",
   "mimetype": "text/x-python",
   "name": "python",
   "nbconvert_exporter": "python",
   "pygments_lexer": "ipython3",
   "version": "3.8.16"
  }
 },
 "nbformat": 4,
 "nbformat_minor": 5
}
