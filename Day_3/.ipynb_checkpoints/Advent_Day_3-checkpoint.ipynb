{
 "cells": [
  {
   "cell_type": "code",
   "execution_count": 1,
   "id": "2577e28e",
   "metadata": {},
   "outputs": [],
   "source": [
    "import numpy as np"
   ]
  },
  {
   "cell_type": "code",
   "execution_count": 21,
   "id": "708c33cb",
   "metadata": {},
   "outputs": [],
   "source": [
    "file = 'test.txt'\n",
    "with open(file, 'r') as f:\n",
    "        lines = f.read().split('\\n')"
   ]
  },
  {
   "cell_type": "code",
   "execution_count": 39,
   "id": "b2064942",
   "metadata": {},
   "outputs": [],
   "source": [
    "def is_valid_symbol(char):\n",
    "    not_symbol = ['1','2','3','4','5','6','7','8','9','0','.']\n",
    "    return char not in not_symbol\n",
    "\n",
    "def is_number(char):\n",
    "    numbers = ['1','2','3','4','5','6','7','8','9','0']\n",
    "    return char in numbers"
   ]
  },
  {
   "cell_type": "code",
   "execution_count": 34,
   "id": "65e58236",
   "metadata": {},
   "outputs": [],
   "source": [
    "def is_valid_position(x, y, grid_width, grid_height):\n",
    "    return 0 <= x < grid_width and 0 <= y < grid_height"
   ]
  },
  {
   "cell_type": "code",
   "execution_count": 55,
   "id": "242eafe3",
   "metadata": {},
   "outputs": [],
   "source": [
    "def complete_numbers_indices(grid):\n",
    "    numbs_dic = {}\n",
    "    rows = len(grid)\n",
    "    cols = len(grid[0])\n",
    "    # right, left\n",
    "    directions = [2 , 1]\n",
    "    digits_to_skip = []\n",
    "    for x in range(rows):\n",
    "        for y in range(cols):\n",
    "            if (x,y) not in digits_to_skip:\n",
    "                if is_valid_position(grid[x+2][y]):\n",
    "                    numbs_dict[(x,y)]=grid[x][y]+grid[x+1][y]+grid[x+2][y]\n",
    "                    digits_to_skip.append((x+1,y), (x+2,y))\n",
    "                elif is_valid_position(grid[x+1][y]):\n",
    "                    numbs_dict[(x,y)]=grid[x][y]+grid[x+1][y]\n",
    "                    digits_to_skip.append((x+1,y))\n",
    "                else:\n",
    "                    numbs_dict[(x,y)]=grid[x][y]\n",
    "\n",
    "                    \n",
    "                \n",
    "                \n",
    "            \n",
    "    "
   ]
  },
  {
   "cell_type": "markdown",
   "id": "91af307c",
   "metadata": {},
   "source": [
    "Create a list of complete numbers and the starting indices. \n",
    "Then iterate through the numbers starting at the starting index and see if any of the digits touch a symbol. \n",
    "If so, add number to a list. "
   ]
  },
  {
   "cell_type": "markdown",
   "id": "3eb90d98",
   "metadata": {},
   "source": []
  },
  {
   "cell_type": "code",
   "execution_count": 54,
   "id": "76a5c486",
   "metadata": {},
   "outputs": [
    {
     "ename": "SyntaxError",
     "evalue": "invalid syntax (97221235.py, line 24)",
     "output_type": "error",
     "traceback": [
      "\u001b[0;36m  Cell \u001b[0;32mIn[54], line 24\u001b[0;36m\u001b[0m\n\u001b[0;31m    else:\u001b[0m\n\u001b[0m    ^\u001b[0m\n\u001b[0;31mSyntaxError\u001b[0m\u001b[0;31m:\u001b[0m invalid syntax\n"
     ]
    }
   ],
   "source": [
    "def numbers_touching_symbols(grid):\n",
    "    rows = len(grid)\n",
    "    cols = len(grid[0])\n",
    "    \n",
    "    # up, down, right, left, four diagnols\n",
    "    directions = [(0,1),(0,-1),(1,0),(-1,0),(1,1),(1,-1),(-1,1),(-1,-1)]\n",
    "    \n",
    "    numbers = []\n",
    "    \n",
    "    for y in range(rows):\n",
    "        for x in range(cols):\n",
    "            if is_number(grid[x][y]):\n",
    "                for dx, dy in directions:\n",
    "                    tx, ty = x+dx, y+dy\n",
    "                    if is_valid_position(tx, ty, cols, rows):\n",
    "                        touching_space = grid[tx][ty]\n",
    "                        if is_valid_symbol(touching_space):\n",
    "                            if is_valid_position(x+1,y,cols, rows) and is_number(grid[x+1][y]):\n",
    "                                if is_valid_position(x+2,y,cols, rows) and is_number(grid[x+2][y]):\n",
    "                                    numbers.append(grid[x][y]+grid[x+1][y]+grid[x+2][y])\n",
    "                                else:\n",
    "                                    numbers.append(grid[x][y]+grid[x+1][y])\n",
    "                            else: \n",
    "                                numbers.append(grid[x][y])\n",
    "    return numbers\n",
    "                "
   ]
  },
  {
   "cell_type": "code",
   "execution_count": 52,
   "id": "3b651298",
   "metadata": {},
   "outputs": [
    {
     "data": {
      "text/plain": [
       "['7', '3', '7', '6', '5', '4', '2', '5', '6', '7', '9', '3']"
      ]
     },
     "execution_count": 52,
     "metadata": {},
     "output_type": "execute_result"
    }
   ],
   "source": [
    "numbers_touching_symbols(lines)"
   ]
  },
  {
   "cell_type": "code",
   "execution_count": 7,
   "id": "ebfb631d",
   "metadata": {},
   "outputs": [],
   "source": [
    "def solution(file):\n"
   ]
  },
  {
   "cell_type": "code",
   "execution_count": 43,
   "id": "274a61f0",
   "metadata": {},
   "outputs": [
    {
     "data": {
      "text/plain": [
       "'6.'"
      ]
     },
     "execution_count": 43,
     "metadata": {},
     "output_type": "execute_result"
    }
   ],
   "source": []
  },
  {
   "cell_type": "code",
   "execution_count": null,
   "id": "05ad9fde",
   "metadata": {},
   "outputs": [],
   "source": []
  }
 ],
 "metadata": {
  "kernelspec": {
   "display_name": "Python 3 (ipykernel)",
   "language": "python",
   "name": "python3"
  },
  "language_info": {
   "codemirror_mode": {
    "name": "ipython",
    "version": 3
   },
   "file_extension": ".py",
   "mimetype": "text/x-python",
   "name": "python",
   "nbconvert_exporter": "python",
   "pygments_lexer": "ipython3",
   "version": "3.8.16"
  }
 },
 "nbformat": 4,
 "nbformat_minor": 5
}
