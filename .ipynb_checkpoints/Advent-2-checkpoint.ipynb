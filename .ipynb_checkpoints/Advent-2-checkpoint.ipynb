{
 "cells": [
  {
   "cell_type": "markdown",
   "id": "fe3080bc",
   "metadata": {},
   "source": [
    "# ADVENT DAY TWO"
   ]
  },
  {
   "cell_type": "markdown",
   "id": "501fc20d",
   "metadata": {},
   "source": [
    "## Problem 1:\n",
    "The Elf would first like to know which games would have been possible if the bag contained only 12 red cubes, 13 green cubes, and 14 blue cubes? Return the summed game numbers."
   ]
  },
  {
   "cell_type": "code",
   "execution_count": 1,
   "id": "2941a7e2",
   "metadata": {},
   "outputs": [],
   "source": [
    "import pandas as pd\n",
    "import numpy as np\n",
    "import re"
   ]
  },
  {
   "cell_type": "markdown",
   "id": "bb32446a",
   "metadata": {},
   "source": [
    "### Load Data"
   ]
  },
  {
   "cell_type": "code",
   "execution_count": 38,
   "id": "9220b6b5",
   "metadata": {},
   "outputs": [],
   "source": [
    "def load_data(file):\n",
    "    with open (file, 'r') as f:\n",
    "        data = f.readlines()\n",
    "    \n",
    "    structured_data = []\n",
    "    \n",
    "    for line in data:\n",
    "        \n",
    "        game_match = re.search(r'Game (\\d+):', line)\n",
    "        if game_match:\n",
    "            game_number = game_match.group(1)\n",
    "        \n",
    "            color_counts = re.findall(r'(\\d+) (\\w+)', line)\n",
    "        \n",
    "            for count, color in color_counts:\n",
    "                structured_data.append({\n",
    "                    'Game': int(game_number),\n",
    "                    'Color': color,\n",
    "                    'Count': int(count)\n",
    "                })\n",
    "        \n",
    "    return pd.DataFrame(structured_data)"
   ]
  },
  {
   "cell_type": "markdown",
   "id": "a9d82a36",
   "metadata": {},
   "source": [
    "### Which Games are Possible??"
   ]
  },
  {
   "cell_type": "code",
   "execution_count": 40,
   "id": "37cc0ef0",
   "metadata": {},
   "outputs": [],
   "source": [
    "def max_color_count(data):\n",
    "    max_cc_data = data.groupby(['Game', 'Color'])['Count'].max().reset_index()\n",
    "    return max_cc_data        "
   ]
  },
  {
   "cell_type": "code",
   "execution_count": 64,
   "id": "e7c0c11e",
   "metadata": {},
   "outputs": [],
   "source": [
    "def impossible_games(data):\n",
    "    \n",
    "    impossible_games_list = set()\n",
    "    \n",
    "    possible_dict = {'red':12, 'green':13, 'blue':14}\n",
    "    \n",
    "    for i, row in data.iterrows():\n",
    "        color = row['Color']\n",
    "        if row['Count'] > possible_dict[color]:\n",
    "            impossible_games_list.add(row['Game'])\n",
    "    return impossible_games_list"
   ]
  },
  {
   "cell_type": "code",
   "execution_count": 65,
   "id": "f25e3b46",
   "metadata": {},
   "outputs": [],
   "source": [
    "def sum_possible_games(all_games, impossible_games):\n",
    "    possible_games = all_games[~all_games['Game'].isin(impossible_games)]['Game']\n",
    "    possible_games_list = set(possible_games)\n",
    "    return sum(possible_games_list)   "
   ]
  },
  {
   "cell_type": "code",
   "execution_count": 70,
   "id": "e42a808a",
   "metadata": {},
   "outputs": [],
   "source": [
    "def solve_problem_1(file):\n",
    "    df = load_data(file)\n",
    "    mcc = max_color_count(df)\n",
    "    impossible_games_list = list(impossible_games(mcc))\n",
    "    return sum_possible_games(mcc, impossible_games_list)"
   ]
  },
  {
   "cell_type": "markdown",
   "id": "9d30a446",
   "metadata": {},
   "source": [
    "## Test"
   ]
  },
  {
   "cell_type": "code",
   "execution_count": 71,
   "id": "02417f64",
   "metadata": {},
   "outputs": [
    {
     "data": {
      "text/plain": [
       "8"
      ]
     },
     "execution_count": 71,
     "metadata": {},
     "output_type": "execute_result"
    }
   ],
   "source": [
    "file = 'advent_day_2_test.txt'\n",
    "solve_problem_1(file)"
   ]
  },
  {
   "cell_type": "code",
   "execution_count": null,
   "id": "e0adf136",
   "metadata": {},
   "outputs": [],
   "source": []
  }
 ],
 "metadata": {
  "kernelspec": {
   "display_name": "Python 3 (ipykernel)",
   "language": "python",
   "name": "python3"
  },
  "language_info": {
   "codemirror_mode": {
    "name": "ipython",
    "version": 3
   },
   "file_extension": ".py",
   "mimetype": "text/x-python",
   "name": "python",
   "nbconvert_exporter": "python",
   "pygments_lexer": "ipython3",
   "version": "3.8.16"
  }
 },
 "nbformat": 4,
 "nbformat_minor": 5
}
