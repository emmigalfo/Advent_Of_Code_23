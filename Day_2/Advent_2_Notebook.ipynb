{
 "cells": [
  {
   "cell_type": "markdown",
   "id": "b3512db4",
   "metadata": {},
   "source": [
    "# ADVENT DAY TWO"
   ]
  },
  {
   "cell_type": "code",
   "execution_count": 1,
   "id": "59d1d35d",
   "metadata": {},
   "outputs": [],
   "source": [
    "import pandas as pd\n",
    "import numpy as np\n",
    "import re"
   ]
  },
  {
   "cell_type": "code",
   "execution_count": 2,
   "id": "ceb8c8ff",
   "metadata": {},
   "outputs": [],
   "source": [
    "def load_data(file):\n",
    "    with open (file, 'r') as f:\n",
    "        data = f.readlines()\n",
    "    \n",
    "    structured_data = []\n",
    "    \n",
    "    for line in data:\n",
    "        \n",
    "        game_match = re.search(r'Game (\\d+):', line)\n",
    "        if game_match:\n",
    "            game_number = game_match.group(1)\n",
    "        \n",
    "            color_counts = re.findall(r'(\\d+) (\\w+)', line)\n",
    "        \n",
    "            for count, color in color_counts:\n",
    "                structured_data.append({\n",
    "                    'Game': int(game_number),\n",
    "                    'Color': color,\n",
    "                    'Count': int(count)\n",
    "                })\n",
    "        \n",
    "    return pd.DataFrame(structured_data)"
   ]
  },
  {
   "cell_type": "code",
   "execution_count": 3,
   "id": "13b3c374",
   "metadata": {},
   "outputs": [],
   "source": [
    "def max_color_count(data):\n",
    "    max_cc_data = data.groupby(['Game', 'Color'])['Count'].max().reset_index()\n",
    "    return max_cc_data        "
   ]
  },
  {
   "cell_type": "code",
   "execution_count": 4,
   "id": "b55a5da3",
   "metadata": {},
   "outputs": [],
   "source": [
    "def impossible_games(data):\n",
    "    \n",
    "    impossible_games_list = set()\n",
    "    \n",
    "    possible_dict = {'red':12, 'green':13, 'blue':14}\n",
    "    \n",
    "    for i, row in data.iterrows():\n",
    "        color = row['Color']\n",
    "        if row['Count'] > possible_dict[color]:\n",
    "            impossible_games_list.add(row['Game'])\n",
    "    return impossible_games_list"
   ]
  },
  {
   "cell_type": "code",
   "execution_count": 5,
   "id": "32e485a0",
   "metadata": {},
   "outputs": [],
   "source": [
    "def possible_games(all_games, impossible_games):\n",
    "    return all_games[~all_games['Game'].isin(impossible_games)]"
   ]
  },
  {
   "cell_type": "code",
   "execution_count": 6,
   "id": "acfd9a78",
   "metadata": {},
   "outputs": [],
   "source": [
    "def sum_possible_games(all_games, impossible_games):\n",
    "    possible_games = all_games[~all_games['Game'].isin(impossible_games)]['Game']\n",
    "    possible_games_list = set(possible_games)\n",
    "    return sum(possible_games_list)   "
   ]
  },
  {
   "cell_type": "code",
   "execution_count": 7,
   "id": "03e5d4bf",
   "metadata": {},
   "outputs": [],
   "source": [
    "def power_games(all_games_df):\n",
    "    \n",
    "    games = all_games_df.groupby('Game')['Count'].agg(np.prod)\n",
    "    \n",
    "    return games"
   ]
  },
  {
   "cell_type": "code",
   "execution_count": 8,
   "id": "5380efa8",
   "metadata": {},
   "outputs": [],
   "source": [
    "def sum_of_powers(powers_list):\n",
    "    return sum(powers_list)"
   ]
  },
  {
   "cell_type": "markdown",
   "id": "036197f1",
   "metadata": {},
   "source": [
    "***\n",
    "## Problem 1:\n",
    "The Elf would first like to know which games would have been possible if the bag contained only 12 red cubes, 13 green cubes, and 14 blue cubes? Return the summed game numbers."
   ]
  },
  {
   "cell_type": "code",
   "execution_count": 9,
   "id": "21ba4cab",
   "metadata": {},
   "outputs": [],
   "source": [
    "def solve_problem_1(file):\n",
    "    df = load_data(file)\n",
    "    mcc = max_color_count(df)\n",
    "    impossible_games_list = list(impossible_games(mcc))\n",
    "    return sum_possible_games(mcc, impossible_games_list)"
   ]
  },
  {
   "cell_type": "markdown",
   "id": "d254e820",
   "metadata": {},
   "source": [
    "## Test"
   ]
  },
  {
   "cell_type": "code",
   "execution_count": 10,
   "id": "88f92b1b",
   "metadata": {},
   "outputs": [
    {
     "data": {
      "text/plain": [
       "8"
      ]
     },
     "execution_count": 10,
     "metadata": {},
     "output_type": "execute_result"
    }
   ],
   "source": [
    "file = 'advent_day_2_test.txt'\n",
    "solve_problem_1(file)"
   ]
  },
  {
   "cell_type": "markdown",
   "id": "ee717d91",
   "metadata": {},
   "source": [
    "### Full Set"
   ]
  },
  {
   "cell_type": "code",
   "execution_count": 11,
   "id": "f4be4727",
   "metadata": {},
   "outputs": [
    {
     "data": {
      "text/plain": [
       "2512"
      ]
     },
     "execution_count": 11,
     "metadata": {},
     "output_type": "execute_result"
    }
   ],
   "source": [
    "file = 'advent_day_2.txt'\n",
    "solve_problem_1(file)"
   ]
  },
  {
   "cell_type": "markdown",
   "id": "a106ba79",
   "metadata": {},
   "source": [
    "***\n",
    "## Problem 2:\n",
    "What is the fewest number of cubes of each color that could have been in the bag to make the game possible? Return the sum of the powers of each game. "
   ]
  },
  {
   "cell_type": "code",
   "execution_count": 12,
   "id": "e1a91027",
   "metadata": {},
   "outputs": [],
   "source": [
    "def solve_problem_2(file):\n",
    "    df = load_data(file)\n",
    "    mcc = max_color_count(df)\n",
    "    powers = power_games(mcc)\n",
    "    sum_powers = sum_of_powers(powers)\n",
    "    return sum_powers"
   ]
  },
  {
   "cell_type": "markdown",
   "id": "2492c555",
   "metadata": {},
   "source": [
    "### Test"
   ]
  },
  {
   "cell_type": "code",
   "execution_count": 13,
   "id": "71e4d5d6",
   "metadata": {},
   "outputs": [
    {
     "data": {
      "text/plain": [
       "2286"
      ]
     },
     "execution_count": 13,
     "metadata": {},
     "output_type": "execute_result"
    }
   ],
   "source": [
    "file = 'advent_day_2_test.txt'\n",
    "solve_problem_2(file)"
   ]
  },
  {
   "cell_type": "markdown",
   "id": "57bc6d33",
   "metadata": {},
   "source": [
    "### Full Set"
   ]
  },
  {
   "cell_type": "code",
   "execution_count": 14,
   "id": "5c1d7653",
   "metadata": {},
   "outputs": [
    {
     "data": {
      "text/plain": [
       "67335"
      ]
     },
     "execution_count": 14,
     "metadata": {},
     "output_type": "execute_result"
    }
   ],
   "source": [
    "file = 'advent_day_2.txt'\n",
    "solve_problem_2(file)"
   ]
  },
  {
   "cell_type": "code",
   "execution_count": null,
   "id": "505b539a",
   "metadata": {},
   "outputs": [],
   "source": []
  }
 ],
 "metadata": {
  "kernelspec": {
   "display_name": "Python 3 (ipykernel)",
   "language": "python",
   "name": "python3"
  },
  "language_info": {
   "codemirror_mode": {
    "name": "ipython",
    "version": 3
   },
   "file_extension": ".py",
   "mimetype": "text/x-python",
   "name": "python",
   "nbconvert_exporter": "python",
   "pygments_lexer": "ipython3",
   "version": "3.8.16"
  }
 },
 "nbformat": 4,
 "nbformat_minor": 5
}
